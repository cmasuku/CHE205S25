{
  "nbformat": 4,
  "nbformat_minor": 0,
  "metadata": {
    "colab": {
      "provenance": [],
      "authorship_tag": "ABX9TyPPqU4UHzbU0Bs0l1D2IpEo"
    },
    "kernelspec": {
      "name": "python3",
      "display_name": "Python 3"
    },
    "language_info": {
      "name": "python"
    }
  },
  "cells": [
    {
      "cell_type": "code",
      "execution_count": null,
      "metadata": {
        "id": "oPBNr73NYJDh"
      },
      "outputs": [],
      "source": [
        "# ChE 205 Class Examples\n",
        "# Problem 7.24 of the Textbook"
      ]
    },
    {
      "cell_type": "code",
      "source": [
        "# Steam at\n",
        "T_s0 = 260        # C, and\n",
        "P_s0 = 7.00       # bar, absolute is expanded through a nozzle to\n",
        "T_s1 = 200        # C, and\n",
        "P_s1 = 4.00       # bar."
      ],
      "metadata": {
        "id": "i7u2oq2nZFG4"
      },
      "execution_count": null,
      "outputs": []
    },
    {
      "cell_type": "code",
      "source": [
        "# Negligible heat is transferred from the nozzle to its surrounding.\n",
        "# The approach velocity of the steam is negligible."
      ],
      "metadata": {
        "id": "xZMAu7zZaHQB"
      },
      "execution_count": null,
      "outputs": []
    },
    {
      "cell_type": "code",
      "source": [
        "# The specific enthalpy (H^hat) of steam is\n",
        "H_s0 = 2974       # kJ/kg at 260 C and 7.00 bar, and\n",
        "H_s1 = 2860       # kJ/kg at 200 C and 4.00 bar."
      ],
      "metadata": {
        "id": "hcINWYIsbNNZ"
      },
      "execution_count": null,
      "outputs": []
    },
    {
      "cell_type": "code",
      "source": [
        "# a) Calculate the steam exit velocity."
      ],
      "metadata": {
        "id": "32RucBnccA3u"
      },
      "execution_count": null,
      "outputs": []
    },
    {
      "cell_type": "code",
      "source": [
        "# Open System Energy Balance\n",
        "# Delta H = 1/2 u^2"
      ],
      "metadata": {
        "id": "CjbUpREtac8h"
      },
      "execution_count": null,
      "outputs": []
    },
    {
      "cell_type": "code",
      "source": [
        "import numpy as np\n",
        "\n",
        "# Need energy units in J/kg\n",
        "u_1s = np.sqrt(2*(H_s0 - H_s1)*1000)\n",
        "print(f\"{u_1s:.1f}\", \"m/s\")"
      ],
      "metadata": {
        "colab": {
          "base_uri": "https://localhost:8080/"
        },
        "id": "Wtl2ASHPcE52",
        "outputId": "8f848c21-a68f-4ee1-994d-80feabd5c895"
      },
      "execution_count": null,
      "outputs": [
        {
          "output_type": "stream",
          "name": "stdout",
          "text": [
            "477.5 m/s\n"
          ]
        }
      ]
    },
    {
      "cell_type": "code",
      "source": [
        "# Next Example\n",
        "# Wednesday 3/26"
      ],
      "metadata": {
        "id": "2tyPabVJct1q"
      },
      "execution_count": null,
      "outputs": []
    },
    {
      "cell_type": "code",
      "source": [
        "# Example Problem 8.32"
      ],
      "metadata": {
        "id": "fLwxP3bjdO_7"
      },
      "execution_count": null,
      "outputs": []
    },
    {
      "cell_type": "code",
      "source": [
        "# Saturated Steam at\n",
        "T_s3 = 300          # C is used to heat a counter-currently flowing stream\n",
        "\n",
        "# of methanol vapor from\n",
        "T_m1 = 65           # C to\n",
        "T_m2 = 260          # C in an adiabatic heat exchanger."
      ],
      "metadata": {
        "id": "iSW3iSW-dYgG"
      },
      "execution_count": null,
      "outputs": []
    },
    {
      "cell_type": "code",
      "source": [
        "# The flow rate of the methanol is\n",
        "V_m1 = 6500         # standard liters per minute (L @ STP / min),\n",
        "\n",
        "# and the steam condenses and leaves the heat exchanger as liquid water at\n",
        "T_w4 = 90           # C."
      ],
      "metadata": {
        "id": "Gf-wrQxWeJuG"
      },
      "execution_count": null,
      "outputs": []
    },
    {
      "cell_type": "code",
      "source": [
        "# a) Calculate the required flow rate of the entering steam in m3/min.\n",
        "\n",
        "# b) Calculate the rate of heat transfer from the water to the methanol in kW"
      ],
      "metadata": {
        "id": "yeKN5CSQfLZ7"
      },
      "execution_count": null,
      "outputs": []
    },
    {
      "cell_type": "code",
      "source": [
        "# The molar volume of a gas at STP\n",
        "V_m = 22.4          # L/mol.\n",
        "\n",
        "# Therefore, the molar flow rate of methanol:\n",
        "n_m1 = V_m1/V_m     # mol/min\n",
        "n_m1"
      ],
      "metadata": {
        "colab": {
          "base_uri": "https://localhost:8080/"
        },
        "id": "iv5JNmcWgDr9",
        "outputId": "f8365d2a-af24-4bb7-baf5-77eb956a024c"
      },
      "execution_count": null,
      "outputs": [
        {
          "output_type": "execute_result",
          "data": {
            "text/plain": [
              "290.17857142857144"
            ]
          },
          "metadata": {},
          "execution_count": 14
        }
      ]
    },
    {
      "cell_type": "code",
      "source": [],
      "metadata": {
        "id": "40GO7xYQgjbg"
      },
      "execution_count": null,
      "outputs": []
    }
  ]
}