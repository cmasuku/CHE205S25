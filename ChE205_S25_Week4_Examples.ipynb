{
  "nbformat": 4,
  "nbformat_minor": 0,
  "metadata": {
    "colab": {
      "provenance": []
    },
    "kernelspec": {
      "name": "python3",
      "display_name": "Python 3"
    },
    "language_info": {
      "name": "python"
    }
  },
  "cells": [
    {
      "cell_type": "code",
      "execution_count": null,
      "metadata": {
        "id": "V-oUN5JMhJaY"
      },
      "outputs": [],
      "source": [
        "# ChE 205 Chemical Engineering Calculations\n",
        "# Extent of Reaction Examples"
      ]
    },
    {
      "cell_type": "code",
      "source": [
        "# Denote the Feed as Stream 0\n",
        "n_C2H4_0 = 100\n",
        "n_O2_0 = 100"
      ],
      "metadata": {
        "id": "IW_stGYohaue"
      },
      "execution_count": null,
      "outputs": []
    },
    {
      "cell_type": "code",
      "source": [
        "# Denote the Exit Stream as Stream 1\n",
        "n_O2_1 = 60"
      ],
      "metadata": {
        "id": "BeGQ7KudiITt"
      },
      "execution_count": null,
      "outputs": []
    },
    {
      "cell_type": "code",
      "source": [
        "# Write the Balanced Chemical Reaction\n",
        "# 2 C2H4 + 1 O2 --> 2 C2H4O"
      ],
      "metadata": {
        "id": "xDpzZGqfiXeX"
      },
      "execution_count": null,
      "outputs": []
    },
    {
      "cell_type": "code",
      "source": [
        "# Stoichiometric coefficients:\n",
        "nu_O2 = -1\n",
        "nu_C2H4 = -2\n",
        "nu_C2H4O = 2"
      ],
      "metadata": {
        "id": "nAroGUMTjQ82"
      },
      "execution_count": null,
      "outputs": []
    },
    {
      "cell_type": "code",
      "source": [
        "# Solve for the extent of Reaction\n",
        "e1 = (n_O2_1 - n_O2_0)/nu_O2\n",
        "e1"
      ],
      "metadata": {
        "colab": {
          "base_uri": "https://localhost:8080/"
        },
        "id": "3b4QTnQfj7Um",
        "outputId": "6421aa4d-f374-4f9a-9f57-ceb24ee35e72"
      },
      "execution_count": null,
      "outputs": [
        {
          "output_type": "execute_result",
          "data": {
            "text/plain": [
              "40.0"
            ]
          },
          "metadata": {},
          "execution_count": 6
        }
      ]
    },
    {
      "cell_type": "code",
      "source": [
        "# Solve for the Outlet Composition\n",
        "n_C2H4_1 = n_C2H4_0 + nu_C2H4*e1\n",
        "n_C2H4_1"
      ],
      "metadata": {
        "colab": {
          "base_uri": "https://localhost:8080/"
        },
        "id": "ZeQYLUw_knF_",
        "outputId": "82423ad1-d7b3-4c92-8b8e-f2b84fbd5e50"
      },
      "execution_count": null,
      "outputs": [
        {
          "output_type": "execute_result",
          "data": {
            "text/plain": [
              "20.0"
            ]
          },
          "metadata": {},
          "execution_count": 7
        }
      ]
    },
    {
      "cell_type": "code",
      "source": [
        "n_C2H4O_1 = 0 + nu_C2H4O*e1\n",
        "n_C2H4O_1"
      ],
      "metadata": {
        "colab": {
          "base_uri": "https://localhost:8080/"
        },
        "id": "H3SCnJ7pmHe-",
        "outputId": "ffd532d2-beba-42b1-8b72-55a362e1106f"
      },
      "execution_count": null,
      "outputs": [
        {
          "output_type": "execute_result",
          "data": {
            "text/plain": [
              "80.0"
            ]
          },
          "metadata": {},
          "execution_count": 8
        }
      ]
    },
    {
      "cell_type": "code",
      "source": [
        "# Example 2"
      ],
      "metadata": {
        "id": "xNFBeuC0nAHW"
      },
      "execution_count": null,
      "outputs": []
    },
    {
      "cell_type": "code",
      "source": [
        "# Solving multiple equations with multiple unknowns using Python programming"
      ],
      "metadata": {
        "id": "qFKU-GG6nX94"
      },
      "execution_count": null,
      "outputs": []
    },
    {
      "cell_type": "code",
      "source": [
        "# Textbook Problem:\n",
        "# Strawberries contain about 15 wt% solids and 85 wt% water.\n",
        "# To make strawberry jam, crushed strawberries and sugar are mixed in a 45:55 mass ratio,\n",
        "# and the mixture is heated to evaporate water until the residue contains one-third water by mass."
      ],
      "metadata": {
        "id": "rjOOi2WNb1Bg"
      },
      "execution_count": null,
      "outputs": []
    },
    {
      "cell_type": "code",
      "source": [
        "# (a). Draw and label a process flow diagram for this process.\n",
        "# (b). Calculate how many pounds of strawberries are needed to make a pound of jam."
      ],
      "metadata": {
        "id": "9Hc_c3Dodow2"
      },
      "execution_count": null,
      "outputs": []
    },
    {
      "cell_type": "code",
      "source": [
        "# To simplify notation: denote solids as S, water as W, sugar as G.\n",
        "# denote the mass of strawberries as m_1,\n",
        "# denote the mass of sugar as m_2,\n",
        "# denote the mass of water evaporated as m_3,\n",
        "# denote the mass of the remaining residue as m_4."
      ],
      "metadata": {
        "id": "-s0y8BoReNvQ"
      },
      "execution_count": null,
      "outputs": []
    },
    {
      "cell_type": "code",
      "source": [
        "# Is this a Continuous, Batch, or a Semi-batch process?\n",
        "# Is this Transient or Steady-State?"
      ],
      "metadata": {
        "id": "RC_vfd-oiDYL"
      },
      "execution_count": null,
      "outputs": []
    },
    {
      "cell_type": "code",
      "source": [
        "# Perform a Degree of Freedom Analysis\n",
        "# Four unknown variables: m_1, m_2, m_3, x_g_4\n",
        "# Three independent material balances\n",
        "# One Specitic Equation (Strawberries to sugar ratio, m_1:m_2)"
      ],
      "metadata": {
        "id": "s-YIwiIaj4pv"
      },
      "execution_count": null,
      "outputs": []
    },
    {
      "cell_type": "code",
      "source": [
        "x_s_1 = 0.15\n",
        "x_w_1 = 0.85"
      ],
      "metadata": {
        "id": "ZOktmV4YlIbk"
      },
      "execution_count": null,
      "outputs": []
    },
    {
      "cell_type": "code",
      "source": [
        "x_g_2 = 1.0"
      ],
      "metadata": {
        "id": "8_IyqoG_lUth"
      },
      "execution_count": null,
      "outputs": []
    },
    {
      "cell_type": "code",
      "source": [
        "y_w_3 = 1.0"
      ],
      "metadata": {
        "id": "jU5Og20Tla_J"
      },
      "execution_count": null,
      "outputs": []
    },
    {
      "cell_type": "code",
      "source": [
        "x_w_4 = 0.33"
      ],
      "metadata": {
        "id": "k48KsG3Elhad"
      },
      "execution_count": null,
      "outputs": []
    },
    {
      "cell_type": "code",
      "source": [
        "# To solve this problem, we can set up the material balances."
      ],
      "metadata": {
        "id": "-i5jZmkFlo3p"
      },
      "execution_count": null,
      "outputs": []
    },
    {
      "cell_type": "code",
      "source": [
        "# Material Balance on Sugar:\n",
        "# m_2*x_g_2 = m_4*x_g_4"
      ],
      "metadata": {
        "id": "eQ0lq0PJteEi"
      },
      "execution_count": null,
      "outputs": []
    },
    {
      "cell_type": "code",
      "source": [
        "# Material Balance on water:\n",
        "# m_1*x_w_1 = m_3*y_w_3 + m_4*x_w_4"
      ],
      "metadata": {
        "id": "-ph0UQSUuQ1J"
      },
      "execution_count": null,
      "outputs": []
    },
    {
      "cell_type": "code",
      "source": [
        "# Total (overall) mass balance:\n",
        "# m_1 + m_2 = m_3 + m_4"
      ],
      "metadata": {
        "id": "JhvBBfQ4u_PM"
      },
      "execution_count": null,
      "outputs": []
    },
    {
      "cell_type": "code",
      "source": [
        "# Specific Equation:\n",
        "# m_1/m_2 = 45/55"
      ],
      "metadata": {
        "id": "v6WFqR1DvNHW"
      },
      "execution_count": null,
      "outputs": []
    },
    {
      "cell_type": "code",
      "source": [
        "# Brief Introduction to Linear Algebra"
      ],
      "metadata": {
        "id": "LDcc3wrbwO4-"
      },
      "execution_count": null,
      "outputs": []
    },
    {
      "cell_type": "code",
      "source": [
        "# Solving Equations that are linear in the Unknowns.\n",
        "# We need to write Equations in a way that lets us express them as\n",
        "# a matrix of coefficients times a vector of uknowns that is equal to a vector of constants.\n",
        "# Ax = b"
      ],
      "metadata": {
        "id": "INh_QD5LwSHI"
      },
      "execution_count": null,
      "outputs": []
    },
    {
      "cell_type": "code",
      "source": [
        "# m_2*x_g_2 - m_4*x_g_4 = 0\n",
        "# m_1*x_w_1 - m_3*y_w_3 - m_4*x_w_4 = 0\n",
        "# m_1 + m_2 - m_3 - m_4 = 0\n",
        "# m_1 - (45/55)*m2 = 0"
      ],
      "metadata": {
        "id": "_lfPkTnSyl4O"
      },
      "execution_count": null,
      "outputs": []
    },
    {
      "cell_type": "code",
      "source": [
        "# 0 +         m_2*1.0   + 0         - 1.0*x_g_4 = 0\n",
        "# m_1*0.85  + 0         - m_3*1.0   + 0         = 1.0*0.33\n",
        "# m_1       + m_2       - m_3       + 0         = 1.0\n",
        "# m_1       - (45/55)*m2 - 0        + 0         = 0"
      ],
      "metadata": {
        "id": "RkIUrao0zuub"
      },
      "execution_count": null,
      "outputs": []
    },
    {
      "cell_type": "code",
      "source": [
        "import numpy as np\n",
        "\n",
        "A = np.array([[0, 1.0, 0, -1.0], [0.85, 0, -1.0, 0], [1.0, 1.0, -1.0, 0], [1.0, -0.81818, 0, 0]])\n",
        "\n",
        "b = np.array([0, 0.33333, 1.0, 0])\n",
        "\n",
        "m_1, m_2, m_3, x_g_4 = np.linalg.solve(A, b)"
      ],
      "metadata": {
        "id": "9PQ-TY_e2cFV"
      },
      "execution_count": null,
      "outputs": []
    },
    {
      "cell_type": "code",
      "source": [
        "m_1, m_2, m_3, x_g_4"
      ],
      "metadata": {
        "colab": {
          "base_uri": "https://localhost:8080/"
        },
        "id": "ecHbYk0242bg",
        "outputId": "20c75bee-38b1-46c9-a8b1-f8d52ac6ff3c"
      },
      "execution_count": null,
      "outputs": [
        {
          "output_type": "execute_result",
          "data": {
            "text/plain": [
              "(0.4858314270521684,\n",
              " 0.5937952859421747,\n",
              " 0.07962671299434311,\n",
              " 0.5937952859421747)"
            ]
          },
          "metadata": {},
          "execution_count": 30
        }
      ]
    },
    {
      "cell_type": "code",
      "source": [
        "print(f\"{m_1:.2f}\", \"pounds of strawberries are needed to make a pound of jam\")"
      ],
      "metadata": {
        "colab": {
          "base_uri": "https://localhost:8080/"
        },
        "id": "SM6_nkDb6chl",
        "outputId": "1e5821e0-d45b-4491-b2de-55e89bbc3bf5"
      },
      "execution_count": null,
      "outputs": [
        {
          "output_type": "stream",
          "name": "stdout",
          "text": [
            "0.49 pounds of strawberries are needed to make a pound of jam\n"
          ]
        }
      ]
    },
    {
      "cell_type": "code",
      "source": [],
      "metadata": {
        "id": "_P-CvxScntWm"
      },
      "execution_count": null,
      "outputs": []
    }
  ]
}