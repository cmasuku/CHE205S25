{
 "cells": [
  {
   "cell_type": "code",
   "execution_count": 1,
   "id": "f905329f",
   "metadata": {},
   "outputs": [],
   "source": [
    "# ChE 205 Chemical Engineering Calculations\n",
    "# Class Examples\n",
    "# Simple Energy Balance Calculations"
   ]
  },
  {
   "cell_type": "code",
   "execution_count": 2,
   "id": "fc04bc92",
   "metadata": {},
   "outputs": [],
   "source": [
    "# 1. How much heat is required for heating 1 L of H2O (l) from 4C to 24C?\n",
    "# 2. What is the equivalent change in height to match this energy?\n",
    "# 3. What is the equivalent change in velocity to match this energy?"
   ]
  },
  {
   "cell_type": "code",
   "execution_count": 9,
   "id": "120718fa",
   "metadata": {},
   "outputs": [
    {
     "name": "stdout",
     "output_type": "stream",
     "text": [
      "84.0 kJ\n"
     ]
    }
   ],
   "source": [
    "# From the Closed-System Energy Balance\n",
    "# Delta U = Q\n",
    "# From Table B6\n",
    "U_4 = 16        # kJ/kg\n",
    "U_24 = 100        # kJ/kg\n",
    "m_w = 1.0         # kg\n",
    "U = m_w*(U_24 - U_4)\n",
    "print(U, \"kJ\")"
   ]
  },
  {
   "cell_type": "code",
   "execution_count": 10,
   "id": "99323c8c",
   "metadata": {},
   "outputs": [
    {
     "name": "stdout",
     "output_type": "stream",
     "text": [
      "8.57  km\n"
     ]
    }
   ],
   "source": [
    "# 2. The Equivalent Potential Energy\n",
    "# E_p = mgz\n",
    "E_p = U\n",
    "g = 9.8          # m/s2\n",
    "z = E_p/(m_w*g)  # km\n",
    "print(f\"{z:.2f}\", \" km\")"
   ]
  },
  {
   "cell_type": "code",
   "execution_count": 13,
   "id": "9c0aedd3",
   "metadata": {},
   "outputs": [
    {
     "name": "stdout",
     "output_type": "stream",
     "text": [
      "409.88 m/s\n"
     ]
    }
   ],
   "source": [
    "# 3. Equivalent Kinetic Energy\n",
    "# E_k = (1/2)*m*u**2\n",
    "\n",
    "# For correct units: 1 J = 1 kg*m2/s2\n",
    "# Need E_k in joules\n",
    "\n",
    "E_k = 1000*U         # joules\n",
    "\n",
    "import math\n",
    "u = math.sqrt(2*E_k/m_w)\n",
    "print(f\"{u:.2f}\", \"m/s\")"
   ]
  },
  {
   "cell_type": "code",
   "execution_count": null,
   "id": "597c6d4d",
   "metadata": {},
   "outputs": [],
   "source": []
  }
 ],
 "metadata": {
  "kernelspec": {
   "display_name": "Python 3 (ipykernel)",
   "language": "python",
   "name": "python3"
  },
  "language_info": {
   "codemirror_mode": {
    "name": "ipython",
    "version": 3
   },
   "file_extension": ".py",
   "mimetype": "text/x-python",
   "name": "python",
   "nbconvert_exporter": "python",
   "pygments_lexer": "ipython3",
   "version": "3.7.16"
  }
 },
 "nbformat": 4,
 "nbformat_minor": 5
}
