{
 "cells": [
  {
   "cell_type": "code",
   "execution_count": null,
   "metadata": {
    "id": "ge-rdFJEIZ5G"
   },
   "outputs": [],
   "source": [
    "# ChE 205 Class Examples"
   ]
  },
  {
   "cell_type": "code",
   "execution_count": null,
   "metadata": {
    "id": "9EIUJBB6Ikt2"
   },
   "outputs": [],
   "source": [
    "# Problem 8.61 of the Textbook"
   ]
  },
  {
   "cell_type": "code",
   "execution_count": null,
   "metadata": {
    "id": "iFshZFWuIqkD"
   },
   "outputs": [],
   "source": [
    "# Looking at the heat capacities"
   ]
  },
  {
   "cell_type": "code",
   "execution_count": null,
   "metadata": {
    "id": "AkG9JIQ3h507"
   },
   "outputs": [],
   "source": [
    "# From Table B.2, Heat capacity as a function of temperature\n",
    "# Cp = a*10^-3 + b*10^-5*T + c*10^-8*T^2 + d*10^-12*T^3"
   ]
  },
  {
   "cell_type": "code",
   "execution_count": null,
   "metadata": {
    "id": "7Dr6pmOgiEoL"
   },
   "outputs": [],
   "source": [
    "# For Pentane vapor (Table B.2)\n",
    "a_P = 114.8\n",
    "b_P = 34.09\n",
    "c_P = -18.99\n",
    "d_P = 42.26"
   ]
  },
  {
   "cell_type": "code",
   "execution_count": null,
   "metadata": {
    "id": "FN3oev5qitKm"
   },
   "outputs": [],
   "source": [
    "# For liquid Pentane\n",
    "a_Pl = 155.4\n",
    "b_Pl = 43.68"
   ]
  },
  {
   "cell_type": "code",
   "execution_count": null,
   "metadata": {
    "id": "eZyx9CV2jcks"
   },
   "outputs": [],
   "source": [
    "# For Hexane vapor\n",
    "a_H = 137.44\n",
    "b_H = 40.85\n",
    "c_H = -23.92\n",
    "d_H = 57.66"
   ]
  },
  {
   "cell_type": "code",
   "execution_count": null,
   "metadata": {
    "id": "0MAZ4dtMjx69"
   },
   "outputs": [],
   "source": [
    "# For liquid Hexane\n",
    "Cp_H_l = 216.3*10**(-3)       # kJ/(mol.C)"
   ]
  },
  {
   "cell_type": "code",
   "execution_count": null,
   "metadata": {
    "id": "TlQRLsSHl1j7"
   },
   "outputs": [],
   "source": [
    "import scipy\n",
    "from scipy.integrate import quad\n",
    "\n",
    "def pentvapcp(T):\n",
    "  return a_P*10**(-3) + b_P*10**(-5)*T + c_P*10**(-8)*T**2 + d_P*10**(-12)*T**3\n",
    "\n",
    "\n",
    "def pentliqcp(T):\n",
    "  return a_Pl*10**(-3) + b_Pl*10**(-5)*T\n",
    "\n",
    "\n",
    "def hexvapcp(T):\n",
    "  return a_H*10**(-3) + b_H*10**(-5)*T + c_H*10**(-8)*T**2 + d_H*10**(-12)*T**3\n",
    "\n"
   ]
  },
  {
   "cell_type": "code",
   "execution_count": null,
   "metadata": {
    "colab": {
     "base_uri": "https://localhost:8080/"
    },
    "id": "jxOE_pD2nnKv",
    "outputId": "1b1abf9e-f48e-4509-db1e-a3ab38c7b0e5"
   },
   "outputs": [
    {
     "name": "stdout",
     "output_type": "stream",
     "text": [
      "2.81 kJ/mol\n"
     ]
    }
   ],
   "source": [
    "T_0 = 65            # C, basis temperature\n",
    "T_1 = 80            # C, inlet temperature\n",
    "\n",
    "H_a, est_error = quad(pentliqcp, T_0, T_1)\n",
    "print(f\"{H_a:.2f}\", \"kJ/mol\")"
   ]
  },
  {
   "cell_type": "code",
   "execution_count": null,
   "metadata": {
    "colab": {
     "base_uri": "https://localhost:8080/"
    },
    "id": "N5Dj3RxGo1hI",
    "outputId": "a5f838ef-45bb-4071-a582-9599e990e2e8"
   },
   "outputs": [
    {
     "name": "stdout",
     "output_type": "stream",
     "text": [
      "3.24 kJ/mol\n"
     ]
    }
   ],
   "source": [
    "H_b = Cp_H_l*(T_1 - T_0)\n",
    "print(f\"{H_b:.2f}\", \"kJ/mol\")"
   ]
  },
  {
   "cell_type": "code",
   "execution_count": null,
   "metadata": {
    "id": "mk9aE_EFsTVo"
   },
   "outputs": [],
   "source": [
    "# Enthalpies of vaporization at the boiling point (Table B.1)\n",
    "H_vap_P = 25.77       # kJ/mol\n",
    "H_vap_H = 28.85       # kJ/mol"
   ]
  },
  {
   "cell_type": "code",
   "execution_count": null,
   "metadata": {
    "colab": {
     "base_uri": "https://localhost:8080/"
    },
    "id": "pxOfC7sWth4E",
    "outputId": "42cb8afe-612d-41ef-8097-9407a17698bd"
   },
   "outputs": [
    {
     "name": "stdout",
     "output_type": "stream",
     "text": [
      "Parts of the integral -5.13 and 3.81kJ/mol\n"
     ]
    }
   ],
   "source": [
    "T_b_P = 36.07\n",
    "\n",
    "H_d1, est_error = quad(pentliqcp, T_0, T_b_P)\n",
    "\n",
    "H_d2, est_error = quad(pentvapcp, T_b_P, T_0)\n",
    "\n",
    "print(\"Parts of the integral\", f\"{H_d1:.2f}\", \"and\", f\"{H_d2:.2f}\" \"kJ/mol\")"
   ]
  },
  {
   "cell_type": "code",
   "execution_count": null,
   "metadata": {
    "colab": {
     "base_uri": "https://localhost:8080/"
    },
    "id": "kLwemlwButrM",
    "outputId": "40939be9-b4ee-478c-fb8a-618f618b4d7e"
   },
   "outputs": [
    {
     "name": "stdout",
     "output_type": "stream",
     "text": [
      "24.44 kJ/mol\n"
     ]
    }
   ],
   "source": [
    "H_d = H_d1 + H_vap_P + H_d2\n",
    "print(f\"{H_d:.2f}\", \"kJ/mol\")"
   ]
  },
  {
   "cell_type": "code",
   "execution_count": null,
   "metadata": {
    "colab": {
     "base_uri": "https://localhost:8080/"
    },
    "id": "oPw3TvRsu-pS",
    "outputId": "2bcd81a4-8aa4-4ad1-cc68-e8a9b6b8ac71"
   },
   "outputs": [
    {
     "name": "stdout",
     "output_type": "stream",
     "text": [
      "Parts of the integral -5.13 and 3.81kJ/mol\n"
     ]
    }
   ],
   "source": [
    "T_b_H = 68.74\n",
    "\n",
    "H_f1 = Cp_H_l*(T_b_H - T_0)\n",
    "\n",
    "H_f2, est_error = quad(hexvapcp, T_b_H, T_0)\n",
    "\n",
    "print(\"Parts of the integral\", f\"{H_d1:.2f}\", \"and\", f\"{H_d2:.2f}\" \"kJ/mol\")"
   ]
  },
  {
   "cell_type": "code",
   "execution_count": null,
   "metadata": {
    "colab": {
     "base_uri": "https://localhost:8080/"
    },
    "id": "J9vJkL3Qv9vk",
    "outputId": "80412553-20e2-4cd3-ece2-9a76682eccc7"
   },
   "outputs": [
    {
     "name": "stdout",
     "output_type": "stream",
     "text": [
      "29.05 kJ/mol\n"
     ]
    }
   ],
   "source": [
    "H_f = H_f1 + H_vap_H + H_f2\n",
    "print(f\"{H_f:.2f}\", \"kJ/mol\")"
   ]
  },
  {
   "cell_type": "code",
   "execution_count": null,
   "metadata": {
    "id": "5rEAccjAwDgO"
   },
   "outputs": [],
   "source": []
  }
 ],
 "metadata": {
  "colab": {
   "provenance": []
  },
  "kernelspec": {
   "display_name": "Python 3 (ipykernel)",
   "language": "python",
   "name": "python3"
  },
  "language_info": {
   "codemirror_mode": {
    "name": "ipython",
    "version": 3
   },
   "file_extension": ".py",
   "mimetype": "text/x-python",
   "name": "python",
   "nbconvert_exporter": "python",
   "pygments_lexer": "ipython3",
   "version": "3.7.16"
  }
 },
 "nbformat": 4,
 "nbformat_minor": 1
}
