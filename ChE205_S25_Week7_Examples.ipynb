{
  "nbformat": 4,
  "nbformat_minor": 0,
  "metadata": {
    "colab": {
      "provenance": [],
      "authorship_tag": "ABX9TyNHb/rRh7VGyHInlfWxcvrK"
    },
    "kernelspec": {
      "name": "python3",
      "display_name": "Python 3"
    },
    "language_info": {
      "name": "python"
    }
  },
  "cells": [
    {
      "cell_type": "code",
      "execution_count": null,
      "metadata": {
        "id": "AGhHRcD2Pnru"
      },
      "outputs": [],
      "source": [
        "# Solving Material Balance Problems that include Vapor-Liquid Equilibrium"
      ]
    },
    {
      "cell_type": "code",
      "source": [
        "# Problem 6.63 of the Text (FRB)\n",
        "# Feed Composition\n",
        "x_P_1 = 0.450\n",
        "x_H_1 = 1 - x_P_1"
      ],
      "metadata": {
        "id": "CPPaeyn9P6aU"
      },
      "execution_count": null,
      "outputs": []
    },
    {
      "cell_type": "code",
      "source": [
        "# Distillate Flow and Composition\n",
        "n_3 = 85.0            # kmol/h\n",
        "x_P_3 = 0.980\n",
        "x_H_3 = 1 - x_P_3"
      ],
      "metadata": {
        "id": "6tvIZJG3QLaL"
      },
      "execution_count": null,
      "outputs": []
    },
    {
      "cell_type": "code",
      "source": [
        "# Specific Equation\n",
        "# The distillate contains 95.0% of the pentane fed to the column.\n",
        "# n_3*x_P_3 = 0.950*n_1*x_P_1\n",
        "# Thus, rearranging gives:\n",
        "n_1 = (n_3*x_P_3)/(0.950*x_P_1)\n",
        "n_1"
      ],
      "metadata": {
        "id": "yopwXbBoQgAe",
        "colab": {
          "base_uri": "https://localhost:8080/"
        },
        "outputId": "f868a4a4-8ac8-4f9d-ebb8-8848b19ba707"
      },
      "execution_count": null,
      "outputs": [
        {
          "output_type": "execute_result",
          "data": {
            "text/plain": [
              "194.85380116959064"
            ]
          },
          "metadata": {},
          "execution_count": 4
        }
      ]
    },
    {
      "cell_type": "code",
      "source": [
        "# The total material balance (no reaction)\n",
        "# n_1 = n_3 + n_6\n",
        "n_6 = n_1 - n_3\n",
        "n_6"
      ],
      "metadata": {
        "id": "Z-VK2p9SQqvf",
        "colab": {
          "base_uri": "https://localhost:8080/"
        },
        "outputId": "518444c8-f404-4a72-ee5b-9931c51efb0a"
      },
      "execution_count": null,
      "outputs": [
        {
          "output_type": "execute_result",
          "data": {
            "text/plain": [
              "109.85380116959064"
            ]
          },
          "metadata": {},
          "execution_count": 5
        }
      ]
    },
    {
      "cell_type": "code",
      "source": [
        "# Material Balance on Pentane:\n",
        "x_P_6 = (n_1*x_P_1 - n_3*x_P_3)/n_6\n",
        "x_P_6"
      ],
      "metadata": {
        "id": "WniV2LCQQz9r",
        "colab": {
          "base_uri": "https://localhost:8080/"
        },
        "outputId": "c1109049-4c52-454b-e2fd-19e9ea9cbaea"
      },
      "execution_count": null,
      "outputs": [
        {
          "output_type": "execute_result",
          "data": {
            "text/plain": [
              "0.03990950226244351"
            ]
          },
          "metadata": {},
          "execution_count": 6
        }
      ]
    },
    {
      "cell_type": "code",
      "source": [
        "x_H_6 = 1 - x_P_6"
      ],
      "metadata": {
        "id": "EXi8Znv1Qb1B"
      },
      "execution_count": null,
      "outputs": []
    },
    {
      "cell_type": "code",
      "source": [
        "# For b) Assume saturated pentane\n",
        "# y_P_2*P = Pvap_P\n",
        "P_2_mmHg = 760                 # mmHg\n",
        "y_P_2 = x_P_3\n",
        "Pvap_P = y_P_2*P_2_mmHg\n",
        "Pvap_P"
      ],
      "metadata": {
        "colab": {
          "base_uri": "https://localhost:8080/"
        },
        "id": "VaEwnLl3Q2q_",
        "outputId": "293f8632-0531-40cc-8974-01ae674de975"
      },
      "execution_count": null,
      "outputs": [
        {
          "output_type": "execute_result",
          "data": {
            "text/plain": [
              "744.8"
            ]
          },
          "metadata": {},
          "execution_count": 8
        }
      ]
    },
    {
      "cell_type": "code",
      "source": [
        "# Using Antoine's Equation: log Pvap_P = A_P - B_P/(T + C_P)\n",
        "A_P = 6.84471\n",
        "B_P = 1060.793\n",
        "C_P = 231.541\n",
        "\n",
        "# For hexane\n",
        "A_H = 6.88555\n",
        "B_H = 1175.817\n",
        "C_H = 224.867"
      ],
      "metadata": {
        "id": "mJUR4zqxVnLe"
      },
      "execution_count": null,
      "outputs": []
    },
    {
      "cell_type": "code",
      "source": [
        "import numpy as np\n",
        "T_2_C = B_P/(A_P - np.log10(Pvap_P)) - C_P\n",
        "T_2_C"
      ],
      "metadata": {
        "colab": {
          "base_uri": "https://localhost:8080/"
        },
        "id": "Vh84z1jiXoTm",
        "outputId": "f4f69fd6-be74-4671-8a76-23f55be2f5c1"
      },
      "execution_count": null,
      "outputs": [
        {
          "output_type": "execute_result",
          "data": {
            "text/plain": [
              "35.4816601608851"
            ]
          },
          "metadata": {},
          "execution_count": 12
        }
      ]
    },
    {
      "cell_type": "code",
      "source": [
        "# To estimate the volumetric flow rate\n",
        "n_2 = 2*n_3"
      ],
      "metadata": {
        "id": "kkf29ukqX-LS"
      },
      "execution_count": null,
      "outputs": []
    },
    {
      "cell_type": "code",
      "source": [
        "# Using Ideal Gas:\n",
        "T_2 = T_2_C + 273.15\n",
        "P_2 = P_2_mmHg/760         # atm\n",
        "R = 0.08206                # (L.atm)/(mol.K) = (m^3.atm)/(kmol.K)\n",
        "V_2 = n_2*R*T_2/P_2\n",
        "V_2"
      ],
      "metadata": {
        "colab": {
          "base_uri": "https://localhost:8080/"
        },
        "id": "DWoNMoKraTnS",
        "outputId": "b94230c1-612c-481f-d7ec-400338c2e65e"
      },
      "execution_count": null,
      "outputs": [
        {
          "output_type": "execute_result",
          "data": {
            "text/plain": [
              "4305.473385576379"
            ]
          },
          "metadata": {},
          "execution_count": 14
        }
      ]
    },
    {
      "cell_type": "code",
      "source": [
        "# for liquid flow rates the\n",
        "MW_P = 72.1\n",
        "MW_H = 86.2\n",
        "Rho_P = 621         # kg/m^3\n",
        "Rho_H = 659         # kg/m^3\n",
        "\n",
        "V_3 = n_3*x_P_3*MW_P/Rho_P + n_3*x_H_3*MW_H/Rho_H\n",
        "V_3"
      ],
      "metadata": {
        "colab": {
          "base_uri": "https://localhost:8080/"
        },
        "id": "XqAfybb4bmMN",
        "outputId": "0934820a-558c-4bb6-f615-6c3fec02e864"
      },
      "execution_count": null,
      "outputs": [
        {
          "output_type": "execute_result",
          "data": {
            "text/plain": [
              "9.893752086189243"
            ]
          },
          "metadata": {},
          "execution_count": 15
        }
      ]
    },
    {
      "cell_type": "code",
      "source": [
        "# c) Assuming Raoult's Law holds\n",
        "# We can solve this using a python function fsolve\n",
        "# We need to import the package that can solve combined exponential and polynomial functions\n",
        "\n",
        "from scipy.optimize import fsolve\n",
        "\n",
        "# Then we neeed to define the function to be solved.\n",
        "\n",
        "P_7_mmHg = 760\n",
        "\n",
        "def function(T):\n",
        "  return x_P_6*(10**(A_P - (B_P)/(T + C_P))) + x_H_6*(10**(A_H - (B_H)/(T + C_H))) - P_7_mmHg\n",
        "\n",
        "#To initialize the solution\n",
        "T_0 = 50          # C\n",
        "\n",
        "sol = fsolve(function, T_0)\n",
        "sol"
      ],
      "metadata": {
        "id": "HA4J9LBUglDR",
        "colab": {
          "base_uri": "https://localhost:8080/"
        },
        "outputId": "6c5b50cf-8a3b-4ee0-e006-b73278bb67c9"
      },
      "execution_count": null,
      "outputs": [
        {
          "output_type": "execute_result",
          "data": {
            "text/plain": [
              "array([66.63615862])"
            ]
          },
          "metadata": {},
          "execution_count": 16
        }
      ]
    },
    {
      "cell_type": "code",
      "source": [
        "T_7 = sol[0]\n",
        "T_7"
      ],
      "metadata": {
        "colab": {
          "base_uri": "https://localhost:8080/"
        },
        "id": "-uSCTdxM-_-j",
        "outputId": "069c7189-0a77-41f8-e60c-0e9897bd406b"
      },
      "execution_count": null,
      "outputs": [
        {
          "output_type": "execute_result",
          "data": {
            "text/plain": [
              "66.63615862234322"
            ]
          },
          "metadata": {},
          "execution_count": 17
        }
      ]
    },
    {
      "cell_type": "code",
      "source": [
        "# Thus the vapor phase mol fractions:\n",
        "y_P_7 = x_P_6*(10**(A_P - (B_P)/(T_7 + C_P)))/P_7_mmHg\n",
        "y_P_7"
      ],
      "metadata": {
        "colab": {
          "base_uri": "https://localhost:8080/"
        },
        "id": "klkyspRIAAhb",
        "outputId": "452c3157-5f83-46aa-e580-e764603aec9e"
      },
      "execution_count": null,
      "outputs": [
        {
          "output_type": "execute_result",
          "data": {
            "text/plain": [
              "0.10171374061599213"
            ]
          },
          "metadata": {},
          "execution_count": 18
        }
      ]
    },
    {
      "cell_type": "code",
      "source": [
        "y_H_7 = 1 - y_P_7\n",
        "y_H_7"
      ],
      "metadata": {
        "colab": {
          "base_uri": "https://localhost:8080/"
        },
        "id": "NQjaEzWnBQ6V",
        "outputId": "26df42f4-8e95-44fd-8d09-57bb19640b74"
      },
      "execution_count": null,
      "outputs": [
        {
          "output_type": "execute_result",
          "data": {
            "text/plain": [
              "0.8982862593840079"
            ]
          },
          "metadata": {},
          "execution_count": 19
        }
      ]
    },
    {
      "cell_type": "code",
      "source": [
        "# d) The velocity is related to the area by the continuity equation\n",
        "# V_2 = A*u_2\n",
        "# A = pi*R**2 = 0.25*pi*D**2\n",
        "u_2_s = 10                                # m/s\n",
        "u_2 = u_2_s*3600\n",
        "\n",
        "D = np.sqrt(4*V_2/(np.pi*u_2))\n",
        "D"
      ],
      "metadata": {
        "colab": {
          "base_uri": "https://localhost:8080/"
        },
        "id": "spFtBYnSBbnQ",
        "outputId": "e2c11f3d-e559-43ec-e58e-065fa7beab08"
      },
      "execution_count": null,
      "outputs": [
        {
          "output_type": "execute_result",
          "data": {
            "text/plain": [
              "0.39022425793526544"
            ]
          },
          "metadata": {},
          "execution_count": 20
        }
      ]
    },
    {
      "cell_type": "code",
      "source": [],
      "metadata": {
        "id": "r-y-7TyMDLhb"
      },
      "execution_count": null,
      "outputs": []
    }
  ]
}